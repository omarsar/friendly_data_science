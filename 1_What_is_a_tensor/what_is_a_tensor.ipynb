{
 "cells": [
  {
   "cell_type": "markdown",
   "metadata": {},
   "source": [
    "## What is a Tensor? - Part 2\n",
    "**Synopsis:** In this notebook we will continue from where we left off in [Part 1](https://youtu.be/WdDVXMOQMss) of \"What is a Tensor?\". The main goal of this notebook is to demonstrate how to construct and use **scalars**, **vectors**, **matrices**, and eventually **tensors** of different dimensions. The tools used in this notebook are Python and Numpy. In addition, we will begin to introduce some notations, which will become useful for future programming sessions."
   ]
  },
  {
   "cell_type": "code",
   "execution_count": 3,
   "metadata": {},
   "outputs": [],
   "source": [
    "import numpy as np"
   ]
  },
  {
   "cell_type": "markdown",
   "metadata": {},
   "source": [
    "### Scalar\n",
    "A scalar represents a one-component quantity, such as a single number. \n",
    "\n",
    "Notation: $a$ - a scalar (integer or real)"
   ]
  },
  {
   "cell_type": "markdown",
   "metadata": {},
   "source": [
    "![alt txt](https://docs.google.com/drawings/d/e/2PACX-1vQT3NRFA6TMdbyxXQ2OtQ3byI2VUN5O2MzHocftU9q514D4_vJOs_2kGQjuUpkuB3mgU3rgQsWceVNY/pub?w=522&h=300)"
   ]
  },
  {
   "cell_type": "code",
   "execution_count": 4,
   "metadata": {},
   "outputs": [],
   "source": [
    "### Declaring a scalar through python built in datatypes\n",
    "a = 7"
   ]
  },
  {
   "cell_type": "code",
   "execution_count": 5,
   "metadata": {},
   "outputs": [],
   "source": [
    "b = \"string\""
   ]
  },
  {
   "cell_type": "code",
   "execution_count": 6,
   "metadata": {},
   "outputs": [
    {
     "data": {
      "text/plain": [
       "True"
      ]
     },
     "execution_count": 6,
     "metadata": {},
     "output_type": "execute_result"
    }
   ],
   "source": [
    "np.isscalar(a)"
   ]
  },
  {
   "cell_type": "code",
   "execution_count": 7,
   "metadata": {},
   "outputs": [
    {
     "data": {
      "text/plain": [
       "True"
      ]
     },
     "execution_count": 7,
     "metadata": {},
     "output_type": "execute_result"
    }
   ],
   "source": [
    "np.isscalar(b)"
   ]
  },
  {
   "cell_type": "markdown",
   "metadata": {},
   "source": [
    "### Vector\n",
    "A vector is a one-dimensional array of length n. n represents the number of scalar components.\n",
    "\n",
    "Notation: $\\boldsymbol a$ - a vector"
   ]
  },
  {
   "cell_type": "markdown",
   "metadata": {},
   "source": [
    "![alt txt](https://docs.google.com/drawings/d/e/2PACX-1vRV5XTFBiuOgGSbVPzj04U30IP2YDqqIorCRWADVr2c-xas0RjsihHS_tQ63FFMEGDdWk0CtpBis5y3/pub?w=543&h=214)"
   ]
  },
  {
   "cell_type": "code",
   "execution_count": 21,
   "metadata": {},
   "outputs": [],
   "source": [
    "### creating a vector or 1-dimensional array using python builtin datatypes\n",
    "v1 = [1,2,3,4,5]"
   ]
  },
  {
   "cell_type": "code",
   "execution_count": 22,
   "metadata": {},
   "outputs": [
    {
     "name": "stdout",
     "output_type": "stream",
     "text": [
      "[1, 2, 3, 4, 5]\n"
     ]
    }
   ],
   "source": [
    "print(v1)"
   ]
  },
  {
   "cell_type": "code",
   "execution_count": 23,
   "metadata": {},
   "outputs": [
    {
     "name": "stdout",
     "output_type": "stream",
     "text": [
      "The vector v1 is of n=5 dimension\n"
     ]
    }
   ],
   "source": [
    "print(\"The vector v1 is of n={} dimension\".format(len(v1)))"
   ]
  },
  {
   "cell_type": "code",
   "execution_count": 24,
   "metadata": {},
   "outputs": [
    {
     "name": "stdout",
     "output_type": "stream",
     "text": [
      "[[ 0.05288984 -1.06033546 -0.62888972 -2.1954612   1.17942183]]\n"
     ]
    }
   ],
   "source": [
    "### Creating a vector or 1-dimensional array with Numpy (Random numbers) ###\n",
    "v2 = np.random.randn(1,5)\n",
    "print(v2)"
   ]
  },
  {
   "cell_type": "code",
   "execution_count": 25,
   "metadata": {},
   "outputs": [
    {
     "data": {
      "text/plain": [
       "(1, 5)"
      ]
     },
     "execution_count": 25,
     "metadata": {},
     "output_type": "execute_result"
    }
   ],
   "source": [
    "v2.shape"
   ]
  },
  {
   "cell_type": "code",
   "execution_count": 26,
   "metadata": {},
   "outputs": [
    {
     "name": "stdout",
     "output_type": "stream",
     "text": [
      "The vector v2 is of 1 by 5 dimension\n"
     ]
    }
   ],
   "source": [
    "print(\"The vector v2 is of {} by {} dimension\".format(v2.shape[0], v2.shape[1]))"
   ]
  },
  {
   "cell_type": "code",
   "execution_count": 27,
   "metadata": {},
   "outputs": [
    {
     "name": "stdout",
     "output_type": "stream",
     "text": [
      "[[1 2 3 4 5]]\n"
     ]
    }
   ],
   "source": [
    "### Creating a vector or 1-dimensional array with numpy (fixed values) ###\n",
    "v3 = np.array([[1,2,3,4,5]])\n",
    "print(v3)"
   ]
  },
  {
   "cell_type": "code",
   "execution_count": 28,
   "metadata": {},
   "outputs": [
    {
     "data": {
      "text/plain": [
       "(1, 5)"
      ]
     },
     "execution_count": 28,
     "metadata": {},
     "output_type": "execute_result"
    }
   ],
   "source": [
    "v3.shape"
   ]
  },
  {
   "cell_type": "code",
   "execution_count": 29,
   "metadata": {},
   "outputs": [
    {
     "name": "stdout",
     "output_type": "stream",
     "text": [
      "The vector v3 is of 1 by 5 dimension\n"
     ]
    }
   ],
   "source": [
    "print(\"The vector v3 is of {} by {} dimension\".format(v3.shape[0], v3.shape[1]))"
   ]
  },
  {
   "cell_type": "markdown",
   "metadata": {},
   "source": [
    "![alt txt](https://docs.google.com/drawings/d/e/2PACX-1vTzbktCb3GAd5BekSjd67tYZaZHVHci2a0_V6yUlRPonls5hAI3cHPkVOgKKhk5wglnKkp-lVTLVVAQ/pub?w=524&h=252)"
   ]
  },
  {
   "cell_type": "code",
   "execution_count": 30,
   "metadata": {},
   "outputs": [
    {
     "name": "stdout",
     "output_type": "stream",
     "text": [
      "The element in position 3 of vector v1 is 3\n"
     ]
    }
   ],
   "source": [
    "### Obtaining elements in (i) position (Classic approach) - this is a scalar component ###\n",
    "position = 3\n",
    "print(\"The element in position {} of vector v1 is {}\".format(position, v1[position-1]))"
   ]
  },
  {
   "cell_type": "code",
   "execution_count": 31,
   "metadata": {},
   "outputs": [
    {
     "name": "stdout",
     "output_type": "stream",
     "text": [
      "The element in position 3 of vector v2 is [-0.62888972]\n"
     ]
    }
   ],
   "source": [
    "### Obtaining elements in (i) position (numpy) - this is a scalar component ###\n",
    "position = 3\n",
    "print(\"The element in position {} of vector v2 is {}\".format(position, v2[:,position-1]))"
   ]
  },
  {
   "cell_type": "code",
   "execution_count": 32,
   "metadata": {},
   "outputs": [
    {
     "name": "stdout",
     "output_type": "stream",
     "text": [
      "[[ 0.05288984 -1.06033546 -0.62888972 -2.1954612   1.17942183]]\n"
     ]
    }
   ],
   "source": [
    "print(v2)"
   ]
  },
  {
   "cell_type": "code",
   "execution_count": 33,
   "metadata": {},
   "outputs": [
    {
     "name": "stdout",
     "output_type": "stream",
     "text": [
      "The element in position 3 of vector v3 is [3]\n"
     ]
    }
   ],
   "source": [
    "### Obtaining elements in (i) position (numpy) - this is a scalar component ###\n",
    "position = 3\n",
    "print(\"The element in position {} of vector v3 is {}\".format(position, v3[:,position-1]))"
   ]
  },
  {
   "cell_type": "markdown",
   "metadata": {},
   "source": [
    "---"
   ]
  },
  {
   "cell_type": "markdown",
   "metadata": {},
   "source": [
    "### Matrix\n",
    "A matrix is a 2-D array of numbers. A matrix is also made up of scalars and vectors. \n",
    "\n",
    "Notation: $\\boldsymbol A$ - a matrix A with $m$ rows, $n$ columns, where $\\boldsymbol A=\\mathbb R^{m\\times n}$."
   ]
  },
  {
   "cell_type": "markdown",
   "metadata": {},
   "source": [
    "![alt txt](https://docs.google.com/drawings/d/e/2PACX-1vRkbIyENJgIlKRSC5wL-m-Fwl3-7svFtNy-VyaRzGQ6l6OPOxO0ZT-B0BEbMUQRVwNTusPG2h8OMKeA/pub?w=391&h=412)"
   ]
  },
  {
   "cell_type": "code",
   "execution_count": 34,
   "metadata": {},
   "outputs": [
    {
     "name": "stdout",
     "output_type": "stream",
     "text": [
      "[[1, 2, 3, 4, 5], [6, 7, 8, 9, 10], [11, 12, 13, 14, 15], [16, 17, 18, 19, 20], [21, 22, 23, 24, 25]]\n"
     ]
    }
   ],
   "source": [
    "### Creating a matrix or 2D array using python built-in datatypes\n",
    "A = [[1,2,3,4,5],\n",
    "     [6,7,8,9,10],\n",
    "     [11,12,13,14,15],\n",
    "     [16,17,18,19,20], \n",
    "     [21,22,23,24,25]]\n",
    "print(A)"
   ]
  },
  {
   "cell_type": "code",
   "execution_count": 35,
   "metadata": {},
   "outputs": [
    {
     "name": "stdout",
     "output_type": "stream",
     "text": [
      "The matrix A has a dimension of 5 by 5\n"
     ]
    }
   ],
   "source": [
    "print(\"The matrix A has a dimension of {} by {}\".format(len(A), len(A[0])))"
   ]
  },
  {
   "cell_type": "code",
   "execution_count": 36,
   "metadata": {},
   "outputs": [
    {
     "name": "stdout",
     "output_type": "stream",
     "text": [
      "[[ 1  2  3  4  5]\n",
      " [ 6  7  8  9 10]\n",
      " [11 12 13 14 15]\n",
      " [16 17 18 19 20]\n",
      " [21 22 23 24 25]]\n"
     ]
    }
   ],
   "source": [
    "### Creating a matrix or 2D array using numpy ###\n",
    "B = np.array([[1,2,3,4,5],\n",
    "     [6,7,8,9,10],\n",
    "     [11,12,13,14,15],\n",
    "     [16,17,18,19,20], \n",
    "     [21,22,23,24,25]])\n",
    "print(B)"
   ]
  },
  {
   "cell_type": "code",
   "execution_count": 37,
   "metadata": {},
   "outputs": [
    {
     "data": {
      "text/plain": [
       "(5, 5)"
      ]
     },
     "execution_count": 37,
     "metadata": {},
     "output_type": "execute_result"
    }
   ],
   "source": [
    "B.shape"
   ]
  },
  {
   "cell_type": "code",
   "execution_count": 38,
   "metadata": {},
   "outputs": [
    {
     "name": "stdout",
     "output_type": "stream",
     "text": [
      "The matrix B has a dimenion of 5 by 5\n"
     ]
    }
   ],
   "source": [
    "print(\"The matrix B has a dimenion of {} by {}\".format(B.shape[0], B.shape[1]))"
   ]
  },
  {
   "cell_type": "code",
   "execution_count": 39,
   "metadata": {},
   "outputs": [
    {
     "name": "stdout",
     "output_type": "stream",
     "text": [
      "[[ 0.15700336 -1.20023447 -1.38608987  1.3173295   1.84865146]\n",
      " [ 1.13034553  0.64396451 -0.91495254  0.38178023  1.5845806 ]\n",
      " [ 0.90335004 -0.75512874  0.95059692  1.96264102  0.79136834]\n",
      " [-0.39934131  0.93625109  0.21566024 -1.26672168 -0.14441973]\n",
      " [-0.89248777  0.31069237 -0.90021293 -0.22804121 -0.17833299]]\n"
     ]
    }
   ],
   "source": [
    "B = np.random.randn(5,5)\n",
    "print(B)"
   ]
  },
  {
   "cell_type": "code",
   "execution_count": 40,
   "metadata": {},
   "outputs": [
    {
     "data": {
      "text/plain": [
       "(5, 5)"
      ]
     },
     "execution_count": 40,
     "metadata": {},
     "output_type": "execute_result"
    }
   ],
   "source": [
    "B.shape"
   ]
  },
  {
   "cell_type": "code",
   "execution_count": 41,
   "metadata": {},
   "outputs": [
    {
     "name": "stdout",
     "output_type": "stream",
     "text": [
      "The matrix B has a dimenion of 5 by 5\n"
     ]
    }
   ],
   "source": [
    "print(\"The matrix B has a dimenion of {} by {}\".format(B.shape[0], B.shape[1]))"
   ]
  },
  {
   "cell_type": "markdown",
   "metadata": {},
   "source": [
    "![alt txt](https://docs.google.com/drawings/d/e/2PACX-1vQYM2jzmHcduY-Th3mplCx0e1Ha-iR9wIhP6-ruVWz1GT1KwU-mr-YsrtdL4Fv0fJ1FzcANhIunYlUt/pub?w=521&h=631)"
   ]
  },
  {
   "cell_type": "code",
   "execution_count": 42,
   "metadata": {},
   "outputs": [
    {
     "name": "stdout",
     "output_type": "stream",
     "text": [
      "3\n",
      "8\n",
      "13\n",
      "18\n",
      "23\n"
     ]
    }
   ],
   "source": [
    "### Print the 3rd column (column vector indexed at position 3) of the 2D-matrix (classic approach) ###\n",
    "position = 3\n",
    "for i in range(len(A)): # [0, 1, 2, 3, 4]\n",
    "    for j in range(len(A[0])): # [0, 1, 2, 3, 4]\n",
    "        if j == (position-1):\n",
    "            print(A[i][j])"
   ]
  },
  {
   "cell_type": "code",
   "execution_count": 43,
   "metadata": {},
   "outputs": [
    {
     "name": "stdout",
     "output_type": "stream",
     "text": [
      "[[1, 2, 3, 4, 5], [6, 7, 8, 9, 10], [11, 12, 13, 14, 15], [16, 17, 18, 19, 20], [21, 22, 23, 24, 25]]\n"
     ]
    }
   ],
   "source": [
    "print(A)"
   ]
  },
  {
   "cell_type": "code",
   "execution_count": 44,
   "metadata": {},
   "outputs": [
    {
     "name": "stdout",
     "output_type": "stream",
     "text": [
      "[-1.38608987 -0.91495254  0.95059692  0.21566024 -0.90021293]\n"
     ]
    }
   ],
   "source": [
    "### Print the 3rd column (column vector indexed at position 3) of the 2D-matrix using numpy ###\n",
    "position = 3\n",
    "print(B[:, (position-1)])"
   ]
  },
  {
   "cell_type": "code",
   "execution_count": 45,
   "metadata": {},
   "outputs": [
    {
     "name": "stdout",
     "output_type": "stream",
     "text": [
      "[[ 0.15700336 -1.20023447 -1.38608987  1.3173295   1.84865146]\n",
      " [ 1.13034553  0.64396451 -0.91495254  0.38178023  1.5845806 ]\n",
      " [ 0.90335004 -0.75512874  0.95059692  1.96264102  0.79136834]\n",
      " [-0.39934131  0.93625109  0.21566024 -1.26672168 -0.14441973]\n",
      " [-0.89248777  0.31069237 -0.90021293 -0.22804121 -0.17833299]]\n"
     ]
    }
   ],
   "source": [
    "print(B)"
   ]
  },
  {
   "cell_type": "markdown",
   "metadata": {},
   "source": [
    "**Exercise:** Make selection of 2 columns using both the classic approach and numpy approach."
   ]
  },
  {
   "cell_type": "markdown",
   "metadata": {},
   "source": [
    "![alt txt](https://docs.google.com/drawings/d/e/2PACX-1vQJ6a2memE5EvGLjwcB2yIQKm5NMzcUdZ1xEUFgQNkzkKWySMpoZ88lRopn6RoHJ-sHfxYEdrfmf2Tc/pub?w=685&h=589)"
   ]
  },
  {
   "cell_type": "code",
   "execution_count": 46,
   "metadata": {},
   "outputs": [
    {
     "name": "stdout",
     "output_type": "stream",
     "text": [
      "16\n",
      "17\n",
      "18\n",
      "19\n",
      "20\n"
     ]
    }
   ],
   "source": [
    "### Print the 4th row (row vector indexed at position 4) of the 2D-matrix (classic approach) ###\n",
    "position = 4\n",
    "for i in range(len(A)): # [0, 1, 2, 3, 4]\n",
    "    for j in range(len(A[0])): # [0, 1, 2, 3, 4]\n",
    "        if i == (position-1):\n",
    "            print(A[i][j])"
   ]
  },
  {
   "cell_type": "code",
   "execution_count": 47,
   "metadata": {},
   "outputs": [
    {
     "name": "stdout",
     "output_type": "stream",
     "text": [
      "[[1, 2, 3, 4, 5], [6, 7, 8, 9, 10], [11, 12, 13, 14, 15], [16, 17, 18, 19, 20], [21, 22, 23, 24, 25]]\n"
     ]
    }
   ],
   "source": [
    "print(A)"
   ]
  },
  {
   "cell_type": "code",
   "execution_count": 48,
   "metadata": {},
   "outputs": [
    {
     "name": "stdout",
     "output_type": "stream",
     "text": [
      "[-0.39934131  0.93625109  0.21566024 -1.26672168 -0.14441973]\n"
     ]
    }
   ],
   "source": [
    "### Print the 4th row (row vector index at position 4) of the 2D-matrix using numpy ###\n",
    "position = 4\n",
    "print(B[ (position-1), : ])"
   ]
  },
  {
   "cell_type": "code",
   "execution_count": 49,
   "metadata": {},
   "outputs": [
    {
     "name": "stdout",
     "output_type": "stream",
     "text": [
      "[[ 0.15700336 -1.20023447 -1.38608987  1.3173295   1.84865146]\n",
      " [ 1.13034553  0.64396451 -0.91495254  0.38178023  1.5845806 ]\n",
      " [ 0.90335004 -0.75512874  0.95059692  1.96264102  0.79136834]\n",
      " [-0.39934131  0.93625109  0.21566024 -1.26672168 -0.14441973]\n",
      " [-0.89248777  0.31069237 -0.90021293 -0.22804121 -0.17833299]]\n"
     ]
    }
   ],
   "source": [
    "print(B)"
   ]
  },
  {
   "cell_type": "markdown",
   "metadata": {},
   "source": [
    "**Exercise:** Make selection of 2 rows using both the classic approach and numpy approach."
   ]
  },
  {
   "cell_type": "markdown",
   "metadata": {},
   "source": [
    "![alt txt](https://docs.google.com/drawings/d/e/2PACX-1vQ5mQOxyoEs5R87COmv20SKxAG2sMFtc6lly2r4R5Cgjn4oSCTCXqWodrQajmYJS5HOPOkmKnf9oDMI/pub?w=520&h=629)"
   ]
  },
  {
   "cell_type": "code",
   "execution_count": 50,
   "metadata": {},
   "outputs": [
    {
     "name": "stdout",
     "output_type": "stream",
     "text": [
      "13\n"
     ]
    }
   ],
   "source": [
    "### Print scalar component positioned at row 3 and column 3 ###\n",
    "row_index = 3\n",
    "col_index = 3\n",
    "\n",
    "for i in range(len(A)): #range of # of rows\n",
    "    for j in range(len(A[0])): #range of # of cols\n",
    "        if i == (row_index-1) and j == (col_index-1):\n",
    "            print(A[i][j])"
   ]
  },
  {
   "cell_type": "code",
   "execution_count": 51,
   "metadata": {},
   "outputs": [
    {
     "name": "stdout",
     "output_type": "stream",
     "text": [
      "[[1, 2, 3, 4, 5], [6, 7, 8, 9, 10], [11, 12, 13, 14, 15], [16, 17, 18, 19, 20], [21, 22, 23, 24, 25]]\n"
     ]
    }
   ],
   "source": [
    "print(A)"
   ]
  },
  {
   "cell_type": "code",
   "execution_count": 52,
   "metadata": {},
   "outputs": [
    {
     "data": {
      "text/plain": [
       "13"
      ]
     },
     "execution_count": 52,
     "metadata": {},
     "output_type": "execute_result"
    }
   ],
   "source": [
    "A[row_index-1][col_index-1]"
   ]
  },
  {
   "cell_type": "code",
   "execution_count": 53,
   "metadata": {},
   "outputs": [
    {
     "data": {
      "text/plain": [
       "0.95059692460915535"
      ]
     },
     "execution_count": 53,
     "metadata": {},
     "output_type": "execute_result"
    }
   ],
   "source": [
    "B[row_index-1][col_index-1]"
   ]
  },
  {
   "cell_type": "code",
   "execution_count": 54,
   "metadata": {},
   "outputs": [
    {
     "name": "stdout",
     "output_type": "stream",
     "text": [
      "[[ 0.15700336 -1.20023447 -1.38608987  1.3173295   1.84865146]\n",
      " [ 1.13034553  0.64396451 -0.91495254  0.38178023  1.5845806 ]\n",
      " [ 0.90335004 -0.75512874  0.95059692  1.96264102  0.79136834]\n",
      " [-0.39934131  0.93625109  0.21566024 -1.26672168 -0.14441973]\n",
      " [-0.89248777  0.31069237 -0.90021293 -0.22804121 -0.17833299]]\n"
     ]
    }
   ],
   "source": [
    "print(B)"
   ]
  },
  {
   "cell_type": "markdown",
   "metadata": {},
   "source": [
    "![alt txt](https://docs.google.com/drawings/d/e/2PACX-1vShF3GIMqXhaAqE7NcS01U2RdzcC1xlCDPev55ULh0ZCneAJLzmE_LRSnphGGNlRZoUrrACkHyMnpLG/pub?w=518&h=564)"
   ]
  },
  {
   "cell_type": "markdown",
   "metadata": {},
   "source": [
    "**Exercise:** Extract the values highlighted in the figure above from both matrix A and B. "
   ]
  },
  {
   "cell_type": "markdown",
   "metadata": {},
   "source": [
    "---"
   ]
  },
  {
   "cell_type": "markdown",
   "metadata": {},
   "source": [
    "### Tensor\n",
    "A tensor is just a generalization of vectors and matrices.\n",
    "\n",
    "Notation: $\\mathsf A$ - a tensor"
   ]
  },
  {
   "cell_type": "markdown",
   "metadata": {},
   "source": [
    "![alt txt](https://docs.google.com/drawings/d/e/2PACX-1vQ5mtG-AkGF0GmblhUgl3iHh5WwZrvCxxSRmHgHfVamCMyrsx22Ws7s21cAzwaJBZn5csSpPTZ_dIdq/pub?w=557&h=542)"
   ]
  },
  {
   "cell_type": "code",
   "execution_count": 59,
   "metadata": {},
   "outputs": [
    {
     "name": "stdout",
     "output_type": "stream",
     "text": [
      "[[[1, 2, 3, 4, 5], [6, 7, 8, 9, 10], [11, 12, 13, 14, 15], [16, 17, 18, 19, 20], [21, 22, 23, 24, 25]], [[26, 27, 28, 29, 30], [31, 32, 33, 34, 35], [36, 37, 38, 39, 40], [41, 42, 43, 44, 45], [46, 47, 48, 49, 50]], [[51, 52, 53, 54, 55], [56, 57, 58, 59, 60], [61, 62, 63, 64, 65], [66, 67, 68, 69, 70], [71, 72, 73, 74, 75]], [[76, 77, 78, 79, 80], [81, 82, 83, 84, 85], [86, 87, 88, 89, 90], [91, 92, 93, 94, 95], [96, 97, 98, 99, 100]], [[101, 102, 103, 104, 105], [106, 107, 108, 109, 110], [111, 112, 113, 114, 115], [116, 117, 118, 119, 120], [121, 122, 123, 124, 125]]]\n"
     ]
    }
   ],
   "source": [
    "### Constructing a 3D-tensor using classic approach ###\n",
    "C = [[[1,2,3,4,5], # begining of 1st matrix\n",
    "     [6,7,8,9,10],\n",
    "     [11,12,13,14,15],\n",
    "     [16,17,18,19,20], \n",
    "     [21,22,23,24,25]],\n",
    "     [[26,27,28,29,30], # beginning of 2nd matrix\n",
    "     [31,32,33,34,35],\n",
    "     [36,37,38,39,40],\n",
    "     [41,42,43,44,45], \n",
    "     [46,47,48,49,50]],\n",
    "     [[51,52,53,54,55], # beginning of 3rd matrix\n",
    "     [56,57,58,59,60],\n",
    "     [61,62,63,64,65],\n",
    "     [66,67,68,69,70], \n",
    "     [71,72,73,74,75]],\n",
    "     [[76,77,78,79,80], # beginning of 4th matrix\n",
    "     [81,82,83,84,85],\n",
    "     [86,87,88,89,90],\n",
    "     [91,92,93,94,95], \n",
    "     [96,97,98,99,100]],\n",
    "     [[101,102,103,104,105], # beginning of 5th matrix\n",
    "     [106,107,108,109,110],\n",
    "     [111,112,113,114,115],\n",
    "     [116,117,118,119,120], \n",
    "     [121,122,123,124,125]]]\n",
    "print(C)"
   ]
  },
  {
   "cell_type": "code",
   "execution_count": 60,
   "metadata": {},
   "outputs": [
    {
     "name": "stdout",
     "output_type": "stream",
     "text": [
      "The tensor C has a dimension of 5 by 5 by 5\n"
     ]
    }
   ],
   "source": [
    "print(\"The tensor C has a dimension of {} by {} by {}\".format(len(C), len(C[0]), len(C[1])))"
   ]
  },
  {
   "cell_type": "code",
   "execution_count": 62,
   "metadata": {},
   "outputs": [
    {
     "name": "stdout",
     "output_type": "stream",
     "text": [
      "[[[  1   2   3   4   5]\n",
      "  [  6   7   8   9  10]\n",
      "  [ 11  12  13  14  15]\n",
      "  [ 16  17  18  19  20]\n",
      "  [ 21  22  23  24  25]]\n",
      "\n",
      " [[ 26  27  28  29  30]\n",
      "  [ 31  32  33  34  35]\n",
      "  [ 36  37  38  39  40]\n",
      "  [ 41  42  43  44  45]\n",
      "  [ 46  47  48  49  50]]\n",
      "\n",
      " [[ 51  52  53  54  55]\n",
      "  [ 56  57  58  59  60]\n",
      "  [ 61  62  63  64  65]\n",
      "  [ 66  67  68  69  70]\n",
      "  [ 71  72  73  74  75]]\n",
      "\n",
      " [[ 76  77  78  79  80]\n",
      "  [ 81  82  83  84  85]\n",
      "  [ 86  87  88  89  90]\n",
      "  [ 91  92  93  94  95]\n",
      "  [ 96  97  98  99 100]]\n",
      "\n",
      " [[101 102 103 104 105]\n",
      "  [106 107 108 109 110]\n",
      "  [111 112 113 114 115]\n",
      "  [116 117 118 119 120]\n",
      "  [121 122 123 124 125]]]\n"
     ]
    }
   ],
   "source": [
    "### Constructing a 3D-tensor using numpy approach ###\n",
    "D = np.array([[[1,2,3,4,5], # begining of 1st matrix\n",
    "     [6,7,8,9,10],\n",
    "     [11,12,13,14,15],\n",
    "     [16,17,18,19,20], \n",
    "     [21,22,23,24,25]],\n",
    "     [[26,27,28,29,30], # beginning of 2nd matrix\n",
    "     [31,32,33,34,35],\n",
    "     [36,37,38,39,40],\n",
    "     [41,42,43,44,45], \n",
    "     [46,47,48,49,50]],\n",
    "     [[51,52,53,54,55], # beginning of 3rd matrix\n",
    "     [56,57,58,59,60],\n",
    "     [61,62,63,64,65],\n",
    "     [66,67,68,69,70], \n",
    "     [71,72,73,74,75]],\n",
    "     [[76,77,78,79,80], # beginning of 4th matrix\n",
    "     [81,82,83,84,85],\n",
    "     [86,87,88,89,90],\n",
    "     [91,92,93,94,95], \n",
    "     [96,97,98,99,100]],\n",
    "     [[101,102,103,104,105], # beginning of 5th matrix\n",
    "     [106,107,108,109,110],\n",
    "     [111,112,113,114,115],\n",
    "     [116,117,118,119,120], \n",
    "     [121,122,123,124,125]]])\n",
    "print(D)"
   ]
  },
  {
   "cell_type": "code",
   "execution_count": 63,
   "metadata": {},
   "outputs": [
    {
     "data": {
      "text/plain": [
       "(5, 5, 5)"
      ]
     },
     "execution_count": 63,
     "metadata": {},
     "output_type": "execute_result"
    }
   ],
   "source": [
    "D.shape"
   ]
  },
  {
   "cell_type": "code",
   "execution_count": 64,
   "metadata": {},
   "outputs": [
    {
     "name": "stdout",
     "output_type": "stream",
     "text": [
      "The tensor D has a dimension of 5 by 5 by 5\n"
     ]
    }
   ],
   "source": [
    "print(\"The tensor D has a dimension of {} by {} by {}\".format(D.shape[0], D.shape[1], D.shape[2]))"
   ]
  },
  {
   "cell_type": "markdown",
   "metadata": {},
   "source": [
    "![alt txt](https://docs.google.com/drawings/d/e/2PACX-1vRtpLZSs3M1Sf26sx2VZFBxCoBHaOPAy-YlOd2KzxQvbExouY1h37rJHvoIa44fL7QrYnFblIDcGbmU/pub?w=549&h=498)"
   ]
  },
  {
   "cell_type": "code",
   "execution_count": 65,
   "metadata": {},
   "outputs": [
    {
     "data": {
      "text/plain": [
       "array([[ 76,  77,  78,  79,  80],\n",
       "       [ 81,  82,  83,  84,  85],\n",
       "       [ 86,  87,  88,  89,  90],\n",
       "       [ 91,  92,  93,  94,  95],\n",
       "       [ 96,  97,  98,  99, 100]])"
      ]
     },
     "execution_count": 65,
     "metadata": {},
     "output_type": "execute_result"
    }
   ],
   "source": [
    "### Extract a specific matrix from a 3d tensor built with numpy ###\n",
    "D[ 3, : , :]"
   ]
  },
  {
   "cell_type": "code",
   "execution_count": 66,
   "metadata": {},
   "outputs": [
    {
     "name": "stdout",
     "output_type": "stream",
     "text": [
      "[[[  1   2   3   4   5]\n",
      "  [  6   7   8   9  10]\n",
      "  [ 11  12  13  14  15]\n",
      "  [ 16  17  18  19  20]\n",
      "  [ 21  22  23  24  25]]\n",
      "\n",
      " [[ 26  27  28  29  30]\n",
      "  [ 31  32  33  34  35]\n",
      "  [ 36  37  38  39  40]\n",
      "  [ 41  42  43  44  45]\n",
      "  [ 46  47  48  49  50]]\n",
      "\n",
      " [[ 51  52  53  54  55]\n",
      "  [ 56  57  58  59  60]\n",
      "  [ 61  62  63  64  65]\n",
      "  [ 66  67  68  69  70]\n",
      "  [ 71  72  73  74  75]]\n",
      "\n",
      " [[ 76  77  78  79  80]\n",
      "  [ 81  82  83  84  85]\n",
      "  [ 86  87  88  89  90]\n",
      "  [ 91  92  93  94  95]\n",
      "  [ 96  97  98  99 100]]\n",
      "\n",
      " [[101 102 103 104 105]\n",
      "  [106 107 108 109 110]\n",
      "  [111 112 113 114 115]\n",
      "  [116 117 118 119 120]\n",
      "  [121 122 123 124 125]]]\n"
     ]
    }
   ],
   "source": [
    "print(D)"
   ]
  },
  {
   "cell_type": "markdown",
   "metadata": {},
   "source": [
    "![alt txt](https://docs.google.com/drawings/d/e/2PACX-1vT9ZmGiYCbks-xD2aYb7OQ8tmzAcKO8YWqXEmK69MNRhMjeXLFSfpOddiRibty2P4usU58kOYlGMfcg/pub?w=555&h=504)"
   ]
  },
  {
   "cell_type": "code",
   "execution_count": 71,
   "metadata": {},
   "outputs": [
    {
     "data": {
      "text/plain": [
       "array([ 10,  35,  60,  85, 110])"
      ]
     },
     "execution_count": 71,
     "metadata": {},
     "output_type": "execute_result"
    }
   ],
   "source": [
    "D[:, 1, 4]"
   ]
  },
  {
   "cell_type": "code",
   "execution_count": 72,
   "metadata": {},
   "outputs": [
    {
     "name": "stdout",
     "output_type": "stream",
     "text": [
      "[[[  1   2   3   4   5]\n",
      "  [  6   7   8   9  10]\n",
      "  [ 11  12  13  14  15]\n",
      "  [ 16  17  18  19  20]\n",
      "  [ 21  22  23  24  25]]\n",
      "\n",
      " [[ 26  27  28  29  30]\n",
      "  [ 31  32  33  34  35]\n",
      "  [ 36  37  38  39  40]\n",
      "  [ 41  42  43  44  45]\n",
      "  [ 46  47  48  49  50]]\n",
      "\n",
      " [[ 51  52  53  54  55]\n",
      "  [ 56  57  58  59  60]\n",
      "  [ 61  62  63  64  65]\n",
      "  [ 66  67  68  69  70]\n",
      "  [ 71  72  73  74  75]]\n",
      "\n",
      " [[ 76  77  78  79  80]\n",
      "  [ 81  82  83  84  85]\n",
      "  [ 86  87  88  89  90]\n",
      "  [ 91  92  93  94  95]\n",
      "  [ 96  97  98  99 100]]\n",
      "\n",
      " [[101 102 103 104 105]\n",
      "  [106 107 108 109 110]\n",
      "  [111 112 113 114 115]\n",
      "  [116 117 118 119 120]\n",
      "  [121 122 123 124 125]]]\n"
     ]
    }
   ],
   "source": [
    "print(D)"
   ]
  },
  {
   "cell_type": "markdown",
   "metadata": {},
   "source": [
    "![alt txt](https://docs.google.com/drawings/d/e/2PACX-1vSs8us1T8DFJnXnCI1SJnAzWSBZFl0ODNMD7z-8aUi-dCatcZGpCTLAzt6WpGBbM9y3zQ58SjvPMliq/pub?w=543&h=495)"
   ]
  },
  {
   "cell_type": "code",
   "execution_count": 73,
   "metadata": {},
   "outputs": [
    {
     "data": {
      "text/plain": [
       "53"
      ]
     },
     "execution_count": 73,
     "metadata": {},
     "output_type": "execute_result"
    }
   ],
   "source": [
    "D[2 , 0 , 2]"
   ]
  },
  {
   "cell_type": "code",
   "execution_count": 74,
   "metadata": {},
   "outputs": [
    {
     "name": "stdout",
     "output_type": "stream",
     "text": [
      "[[[  1   2   3   4   5]\n",
      "  [  6   7   8   9  10]\n",
      "  [ 11  12  13  14  15]\n",
      "  [ 16  17  18  19  20]\n",
      "  [ 21  22  23  24  25]]\n",
      "\n",
      " [[ 26  27  28  29  30]\n",
      "  [ 31  32  33  34  35]\n",
      "  [ 36  37  38  39  40]\n",
      "  [ 41  42  43  44  45]\n",
      "  [ 46  47  48  49  50]]\n",
      "\n",
      " [[ 51  52  53  54  55]\n",
      "  [ 56  57  58  59  60]\n",
      "  [ 61  62  63  64  65]\n",
      "  [ 66  67  68  69  70]\n",
      "  [ 71  72  73  74  75]]\n",
      "\n",
      " [[ 76  77  78  79  80]\n",
      "  [ 81  82  83  84  85]\n",
      "  [ 86  87  88  89  90]\n",
      "  [ 91  92  93  94  95]\n",
      "  [ 96  97  98  99 100]]\n",
      "\n",
      " [[101 102 103 104 105]\n",
      "  [106 107 108 109 110]\n",
      "  [111 112 113 114 115]\n",
      "  [116 117 118 119 120]\n",
      "  [121 122 123 124 125]]]\n"
     ]
    }
   ],
   "source": [
    "print(D)"
   ]
  },
  {
   "cell_type": "markdown",
   "metadata": {},
   "source": [
    "![alt txt](https://docs.google.com/drawings/d/e/2PACX-1vQwnyBMOH0IDZwfOMWeih-UnLqfZe-JMnJ64qhGUBOdgM9w6FJY23DQKiarUjzsX9-k2lK1-6gqfo-C/pub?w=562&h=505)"
   ]
  },
  {
   "cell_type": "markdown",
   "metadata": {},
   "source": [
    "**Exercise:** Extract the selected column vectors from the tensor D, just as shown in the figure above."
   ]
  },
  {
   "cell_type": "code",
   "execution_count": null,
   "metadata": {},
   "outputs": [],
   "source": []
  }
 ],
 "metadata": {
  "kernelspec": {
   "display_name": "Python 3",
   "language": "python",
   "name": "python3"
  },
  "language_info": {
   "codemirror_mode": {
    "name": "ipython",
    "version": 3
   },
   "file_extension": ".py",
   "mimetype": "text/x-python",
   "name": "python",
   "nbconvert_exporter": "python",
   "pygments_lexer": "ipython3",
   "version": "3.6.2"
  }
 },
 "nbformat": 4,
 "nbformat_minor": 2
}
